{
  "nbformat": 4,
  "nbformat_minor": 0,
  "metadata": {
    "colab": {
      "name": "Autograd_learning.ipynb",
      "provenance": [],
      "authorship_tag": "ABX9TyPHPy8um769cCrDHBbmjg17",
      "include_colab_link": true
    },
    "kernelspec": {
      "name": "python3",
      "display_name": "Python 3"
    },
    "language_info": {
      "name": "python"
    },
    "accelerator": "GPU"
  },
  "cells": [
    {
      "cell_type": "markdown",
      "metadata": {
        "id": "view-in-github",
        "colab_type": "text"
      },
      "source": [
        "<a href=\"https://colab.research.google.com/github/shaojiezhanglalala/MachineLearning/blob/main/Autograd_learning.ipynb\" target=\"_parent\"><img src=\"https://colab.research.google.com/assets/colab-badge.svg\" alt=\"Open In Colab\"/></a>"
      ]
    },
    {
      "cell_type": "code",
      "execution_count": 1,
      "metadata": {
        "id": "VbQGw4xZopbB"
      },
      "outputs": [],
      "source": [
        "import torch\n",
        "import math"
      ]
    },
    {
      "cell_type": "markdown",
      "source": [
        "手动实现神经网络的前向和后向传递。 对于小型的两层网络，手动实现反向传递并不是什么大问题，\n",
        "但是对于大型的复杂网络来说，可以很快变得非常麻烦。\n",
        "幸运的是，我们可以使用自动微分来自动计算神经网络中的反向传递。"
      ],
      "metadata": {
        "id": "42K62HLApoTk"
      }
    },
    {
      "cell_type": "code",
      "source": [
        "dtype = torch.float\n",
        "device = torch.device('cuda:0')"
      ],
      "metadata": {
        "id": "MK_oTrdnpEVJ"
      },
      "execution_count": 2,
      "outputs": []
    },
    {
      "cell_type": "code",
      "source": [
        "# 创造随机输入和输出数据\n",
        "x = torch.linspace(-math.pi, math.pi, 2000, device=device, dtype=dtype)\n",
        "y = torch.sin(x)"
      ],
      "metadata": {
        "id": "cvo0o2ivsyJh"
      },
      "execution_count": 3,
      "outputs": []
    },
    {
      "cell_type": "code",
      "source": [
        "# 随机初始化参数a, b, c, d\n",
        "a = torch.randn((), device=device, dtype=dtype, requires_grad=True)\n",
        "b = torch.randn((), device=device, dtype=dtype, requires_grad=True)\n",
        "c = torch.randn((), device=device, dtype=dtype, requires_grad=True)\n",
        "d = torch.randn((), device=device, dtype=dtype, requires_grad=True)"
      ],
      "metadata": {
        "id": "oE6xwsC2tPUd"
      },
      "execution_count": 7,
      "outputs": []
    },
    {
      "cell_type": "code",
      "source": [
        "lr = 1e-6\n",
        "for t in range(2000):\n",
        "  # 将梯度归零\n",
        "  a.grad, b.grad, c.grad, d.grad = None, None, None, None\n",
        "  # 前向传播\n",
        "  y_pred = a + b*x + c*x**2 + d*x**3\n",
        "  # 计算损失\n",
        "  loss = (y_pred - y).pow(2).sum()\n",
        "  if t % 100 == 99:\n",
        "    print(t, loss.item())\n",
        "\n",
        "  # 反向传播\n",
        "  loss.backward()\n",
        "\n",
        "  # 进行优化,optimizer部分 optimizer.step()\n",
        "  with torch.no_grad():\n",
        "    a -= lr * a.grad\n",
        "    b -= lr * b.grad\n",
        "    c -= lr * c.grad\n",
        "    d -= lr * d.grad\n",
        "\n",
        "print(f'Result:y = {a.item()}+{b.item()}x+{c.item()}x^2+{d.item()}x^3')\n",
        "  "
      ],
      "metadata": {
        "colab": {
          "base_uri": "https://localhost:8080/"
        },
        "id": "Dmsfnx56t7_S",
        "outputId": "68e3909b-27f3-4b9f-d6dd-75a9d13a7433"
      },
      "execution_count": 8,
      "outputs": [
        {
          "output_type": "stream",
          "name": "stdout",
          "text": [
            "99 1246.8035888671875\n",
            "199 828.108642578125\n",
            "299 551.0525512695312\n",
            "399 367.7092590332031\n",
            "499 246.37440490722656\n",
            "599 166.0716552734375\n",
            "699 112.92181396484375\n",
            "799 77.7413101196289\n",
            "899 54.453453063964844\n",
            "999 39.036720275878906\n",
            "1099 28.83001708984375\n",
            "1199 22.071998596191406\n",
            "1299 17.5970458984375\n",
            "1399 14.633563041687012\n",
            "1499 12.67080307006836\n",
            "1599 11.370742797851562\n",
            "1699 10.509490013122559\n",
            "1799 9.938895225524902\n",
            "1899 9.560802459716797\n",
            "1999 9.310233116149902\n",
            "Result:y = -0.0047836266458034515+0.8356073498725891x+0.0008252528496086597x^2+-0.09032433480024338x^3\n"
          ]
        }
      ]
    }
  ]
}