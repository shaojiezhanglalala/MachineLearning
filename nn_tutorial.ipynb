{
  "nbformat": 4,
  "nbformat_minor": 0,
  "metadata": {
    "colab": {
      "name": "nn_tutorial.ipynb",
      "provenance": [],
      "collapsed_sections": [],
      "authorship_tag": "ABX9TyPzOrr9iAxuZ0CvNtL6r9JC",
      "include_colab_link": true
    },
    "kernelspec": {
      "name": "python3",
      "display_name": "Python 3"
    },
    "language_info": {
      "name": "python"
    },
    "accelerator": "GPU"
  },
  "cells": [
    {
      "cell_type": "markdown",
      "metadata": {
        "id": "view-in-github",
        "colab_type": "text"
      },
      "source": [
        "<a href=\"https://colab.research.google.com/github/shaojiezhanglalala/MachineLearning/blob/main/nn_tutorial.ipynb\" target=\"_parent\"><img src=\"https://colab.research.google.com/assets/colab-badge.svg\" alt=\"Open In Colab\"/></a>"
      ]
    },
    {
      "cell_type": "markdown",
      "source": [
        "# 在线下载数据集\n"
      ],
      "metadata": {
        "id": "Cehl9byrRvm1"
      }
    },
    {
      "cell_type": "code",
      "execution_count": 1,
      "metadata": {
        "id": "zwLAb6wsRmNT"
      },
      "outputs": [],
      "source": [
        "from pathlib import Path\n",
        "import requests\n",
        "\n",
        "DATA_PATH = Path('data')\n",
        "PATH = DATA_PATH / 'mnist'\n",
        "PATH.mkdir(parents=True, exist_ok=True)\n",
        "\n",
        "URL = 'https://github.com/pytorch/tutorials/raw/master/_static/'\n",
        "FILENAME = 'mnist.pkl.gz'\n",
        "\n",
        "if not(PATH/FILENAME).exists():\n",
        "  content = requests.get(URL + FILENAME).content\n",
        "  (PATH / FILENAME).open('wb').write(content)"
      ]
    },
    {
      "cell_type": "markdown",
      "source": [
        "该数据集为 numpy 数组格式，并已使用pickle（一种用于序列化数据的 python 特定格式）存储。"
      ],
      "metadata": {
        "id": "Ly2e15R1Viw9"
      }
    },
    {
      "cell_type": "code",
      "source": [
        "import pickle\n",
        "import gzip\n",
        "\n",
        "with gzip.open((PATH / FILENAME).as_posix(), \"rb\") as f:\n",
        "        ((x_train, y_train), (x_valid, y_valid), _) = pickle.load(f, encoding=\"latin-1\")"
      ],
      "metadata": {
        "id": "BvRHpG1IVkpx"
      },
      "execution_count": 2,
      "outputs": []
    },
    {
      "cell_type": "markdown",
      "source": [
        "每个图像为28 x 28，并存储为长度为784 = 28x28的扁平行。 让我们来看一个； 我们需要先将其重塑为 2d。"
      ],
      "metadata": {
        "id": "Cu5o5zJZWBfw"
      }
    },
    {
      "cell_type": "code",
      "source": [
        "from matplotlib import pyplot\n",
        "import numpy as np\n",
        "\n",
        "pyplot.imshow(x_train[0].reshape((28, 28)), cmap=\"gray\")\n",
        "print(x_train.shape)"
      ],
      "metadata": {
        "colab": {
          "base_uri": "https://localhost:8080/",
          "height": 283
        },
        "id": "X5UYk2rQWDCK",
        "outputId": "ad46ae7d-5ff2-4f99-bf45-49f75d1ea97e"
      },
      "execution_count": 3,
      "outputs": [
        {
          "output_type": "stream",
          "name": "stdout",
          "text": [
            "(50000, 784)\n"
          ]
        },
        {
          "output_type": "display_data",
          "data": {
            "image/png": "[encoded data removed]",
            "text/plain": [
              "<Figure size 432x288 with 1 Axes>"
            ]
          },
          "metadata": {
            "needs_background": "light"
          }
        }
      ]
    },
    {
      "cell_type": "markdown",
      "source": [
        "PyTorch 使用torch.tensor而不是 numpy 数组，因此我们需要转换数据。"
      ],
      "metadata": {
        "id": "e-eZbA3xhMkp"
      }
    },
    {
      "cell_type": "code",
      "source": [
        "import torch\n",
        "\n",
        "x_train, y_train, x_valid, y_valid = map(\n",
        "    torch.tensor, (x_train, y_train, x_valid, y_valid)\n",
        ")\n",
        "n, c = x_train.shape\n",
        "x_train, x_train.shape, y_train.min(), y_train.max()\n",
        "print(x_train, y_train)\n",
        "print(x_train.shape)\n",
        "print(y_train.min(), y_train.max())\n",
        "\n",
        "bs = 64  # batch size\n",
        "xb = x_train[0:bs]  # a mini-batch from x\n",
        "yb = y_train[0:bs]"
      ],
      "metadata": {
        "colab": {
          "base_uri": "https://localhost:8080/"
        },
        "id": "pQJazgAOWdJ7",
        "outputId": "a71a95ae-2410-4b4e-9ba3-0d7f6515396a"
      },
      "execution_count": 4,
      "outputs": [
        {
          "output_type": "stream",
          "name": "stdout",
          "text": [
            "tensor([[0., 0., 0.,  ..., 0., 0., 0.],\n",
            "        [0., 0., 0.,  ..., 0., 0., 0.],\n",
            "        [0., 0., 0.,  ..., 0., 0., 0.],\n",
            "        ...,\n",
            "        [0., 0., 0.,  ..., 0., 0., 0.],\n",
            "        [0., 0., 0.,  ..., 0., 0., 0.],\n",
            "        [0., 0., 0.,  ..., 0., 0., 0.]]) tensor([5, 0, 4,  ..., 8, 4, 8])\n",
            "torch.Size([50000, 784])\n",
            "tensor(0) tensor(9)\n"
          ]
        }
      ]
    },
    {
      "cell_type": "markdown",
      "source": [
        "# torch.nn.functional\n",
        "---------------\n",
        "用torch.nn.functional（通常按照惯例将其导入到名称空间F中）替换我们的手写激活和损失函数，从而缩短代码长度。 该模块包含torch.nn库中的所有函数（而该库的其他部分包含类）。 除了广泛的损失和激活函数外，您还会在这里找到一些方便的函数来创建神经网络，例如池化函数。 （还有一些用于进行卷积，线性层等的函数，但是正如我们将看到的那样，通常可以使用库的其他部分来更好地处理这些函数。）<br>\n",
        "如果您使用的是负对数似然损失和对数 softmax 激活，那么 Pytorch 会提供结合了两者的单一函数F.cross_entropy。 因此，我们甚至可以从模型中删除激活函数。"
      ],
      "metadata": {
        "id": "It-_R8oXihKx"
      }
    },
    {
      "cell_type": "code",
      "source": [
        "import torch.nn.functional as F\n",
        "\n",
        "'''\n",
        "使用torch.nn.functional之前\n",
        "需要自己定义激活函数：\n",
        "def log_softmax(x):\n",
        "    return x - x.exp().sum(-1).log().unsqueeze(-1)\n",
        "需要自己定义损失函数：\n",
        "def nll(input, target):\n",
        "    return -input[range(target.shape[0]), target].mean()\n",
        "'''\n",
        "\n",
        "loss_func = F.cross_entropy\n"
      ],
      "metadata": {
        "id": "aBSel3gVi51B"
      },
      "execution_count": 5,
      "outputs": []
    },
    {
      "cell_type": "markdown",
      "source": [
        "# nn.Module和nn.Linear\n",
        "----------\n",
        "**1.nn.Module**<br>\n",
        "我们将nn.Module子类化（它本身是一个类并且能够跟踪状态）。 在这种情况下，我们要创建一个类，该类包含前进步骤的权重，偏置和方法。 nn.Module具有许多我们将要使用的属性和方法（例如.parameters()和.zero_grad()）<br/>\n",
        "**请注意，nn.Module对象的使用就好像它们是函数一样（即，它们是可调用的），但是在后台 Pytorch 会自动调用我们的forward方法。**\n",
        "<br>**2.nn.Linear**<br>\n",
        "使用nn.Linear代替手动定义和初始化`self.weights`和`self.bias`并计算`xb  @ self.weights + self.bias`"
      ],
      "metadata": {
        "id": "KV8-jL67hWno"
      }
    },
    {
      "cell_type": "code",
      "source": [
        "from torch import nn\n",
        "\n",
        "'''\n",
        "使用nn.Module和nn.Linear之前：\n",
        "需要自己手动定义和初始化权重和偏置\n",
        "def model(xb):\n",
        "    return xb @ weights + bias\n",
        "\n",
        "class Mnist_Logistic(nn.Module):\n",
        "    def __init__(self):\n",
        "        super().__init__()\n",
        "        self.weights = nn.Parameter(torch.randn(784, 10) / math.sqrt(784))\n",
        "        self.bias = nn.Parameter(torch.zeros(10))\n",
        "\n",
        "    def forward(self, xb):\n",
        "        return xb @ self.weights + self.bias\n",
        "'''\n",
        "class Mnist_Logistic(nn.Module):\n",
        "    def __init__(self):\n",
        "        super().__init__()\n",
        "        self.lin = nn.Linear(784, 10)\n",
        "\n",
        "    def forward(self, xb):\n",
        "        return self.lin(xb)\n",
        "\n",
        "# 实例化模型\n",
        "model = Mnist_Logistic()"
      ],
      "metadata": {
        "id": "b-hYiZr9Z_P_"
      },
      "execution_count": 6,
      "outputs": []
    },
    {
      "cell_type": "markdown",
      "source": [
        "# torch.optim\n",
        "---------\n",
        "Pytorch提供了一个包含各种优化算法的包torch.optim。 我们可以使用优化器中的step方法采取向前的步骤，而不是手动更新每个参数。"
      ],
      "metadata": {
        "id": "UnVAY9FymfdE"
      }
    },
    {
      "cell_type": "code",
      "source": [
        "'''\n",
        "使用前，需要手动编码优化步骤，更新网络参数\n",
        "with torch.no_grad():\n",
        "    for p in model.parameters(): p -= p.grad * lr\n",
        "    model.zero_grad()\n",
        "\n",
        "使用后，只需要：\n",
        "opt.step()\n",
        "opt.zero_grad()\n",
        "'''\n",
        "from torch import optim\n",
        "# 我们将定义一个小函数来创建模型和优化器，以便将来重用。\n",
        "lr = 0.5  # 学习率\n",
        "epochs = 2  # 训练轮数\n",
        "def get_model():\n",
        "    model = Mnist_Logistic()\n",
        "    return model, optim.SGD(model.parameters(), lr=lr)\n",
        "\n",
        "model, opt = get_model()\n",
        "print(loss_func(model(xb), yb))\n",
        "\n",
        "for epoch in range(epochs):\n",
        "    for i in range((n - 1) // bs + 1):\n",
        "        start_i = i * bs\n",
        "        end_i = start_i + bs\n",
        "        xb = x_train[start_i:end_i]\n",
        "        yb = y_train[start_i:end_i]\n",
        "        pred = model(xb)\n",
        "        loss = loss_func(pred, yb)\n",
        "\n",
        "        loss.backward()\n",
        "        opt.step()\n",
        "        opt.zero_grad()\n",
        "\n",
        "print(loss_func(model(xb), yb))"
      ],
      "metadata": {
        "colab": {
          "base_uri": "https://localhost:8080/"
        },
        "id": "der0gGgXmsq2",
        "outputId": "bec99c85-fc73-4d2f-e99e-1aada7371445"
      },
      "execution_count": 7,
      "outputs": [
        {
          "output_type": "stream",
          "name": "stdout",
          "text": [
            "tensor(2.3170, grad_fn=<NllLossBackward0>)\n",
            "tensor(0.0816, grad_fn=<NllLossBackward0>)\n"
          ]
        }
      ]
    },
    {
      "cell_type": "markdown",
      "source": [
        "# Dataset\n",
        "-----------\n",
        "PyTorch 有一个抽象的Dataset类。 数据集可以是具有__len__函数（由 Python 的标准len函数调用）和具有__getitem__函数作为对其进行索引的一种方法。<br>\n",
        "PyTorch 的TensorDataset是一个数据集包装张量。 通过定义索引的长度和方式，这也为我们提供了沿张量的第一维进行迭代，索引和切片的方法。 这将使我们在训练的同一行中更容易访问自变量和因变量。\n"
      ],
      "metadata": {
        "id": "QqtsDdCyP1Li"
      }
    },
    {
      "cell_type": "code",
      "source": [
        "from torch.utils.data import TensorDataset\n",
        "\n",
        "# 将之前的x_train和y_train合并成一个TensorDataset更易于迭代和切片\n",
        "train_ds = TensorDataset(x_train, y_train)\n",
        "\n",
        "model, opt = get_model()\n",
        "\n",
        "for epoch in range(epochs):\n",
        "    for i in range((n - 1) // bs + 1):\n",
        "        xb, yb = train_ds[i * bs: i * bs + bs]\n",
        "        pred = model(xb)\n",
        "        loss = loss_func(pred, yb)\n",
        "\n",
        "        loss.backward()\n",
        "        opt.step()\n",
        "        opt.zero_grad()\n",
        "\n",
        "print(loss_func(model(xb), yb))"
      ],
      "metadata": {
        "colab": {
          "base_uri": "https://localhost:8080/"
        },
        "id": "j2yF2BrzQUE1",
        "outputId": "eb09b45d-cd08-4d17-8d30-6232707e582d"
      },
      "execution_count": 8,
      "outputs": [
        {
          "output_type": "stream",
          "name": "stdout",
          "text": [
            "tensor(0.0816, grad_fn=<NllLossBackward0>)\n"
          ]
        }
      ]
    },
    {
      "cell_type": "markdown",
      "source": [
        "# DataLoader\n",
        "------\n",
        "Pytorch 的DataLoader负责批量管理。 您可以从任何Dataset创建一个DataLoader。 DataLoader使迭代迭代变得更加容易。 不必使用`train_ds[i*bs : i*bs+bs]`，DataLoader会自动为我们提供每个小批量。"
      ],
      "metadata": {
        "id": "dvJBJ4jXQ65X"
      }
    },
    {
      "cell_type": "code",
      "source": [
        "from torch.utils.data import DataLoader\n",
        "\n",
        "'''\n",
        "使用DataLoader之前，需要循环遍历：\n",
        "for i in range((n-1)//bs + 1):\n",
        "    xb,yb = train_ds[i*bs : i*bs+bs]\n",
        "    pred = model(xb)\n",
        "'''\n",
        "\n",
        "# 使用DataLoader之后\n",
        "train_dl = DataLoader(train_ds, batch_size=bs)\n",
        "\n",
        "model, opt = get_model()\n",
        "for epoch in range(epochs):\n",
        "  for xb, yb in train_dl:\n",
        "    # 初始化梯度\n",
        "    opt.zero_grad()\n",
        "    # 前向传播\n",
        "    pred = model(xb)\n",
        "    loss = loss_func(pred, yb)\n",
        "    # 反向传播\n",
        "    loss.backward()\n",
        "    # 参数更新\n",
        "    opt.step()\n",
        "\n",
        "print(loss_func(model(xb),yb))"
      ],
      "metadata": {
        "colab": {
          "base_uri": "https://localhost:8080/"
        },
        "id": "sYBX6So0RFnl",
        "outputId": "d65691fc-f2e4-49c8-dc2c-c177fc49ed6a"
      },
      "execution_count": 9,
      "outputs": [
        {
          "output_type": "stream",
          "name": "stdout",
          "text": [
            "tensor(0.0825, grad_fn=<NllLossBackward0>)\n"
          ]
        }
      ]
    },
    {
      "cell_type": "markdown",
      "source": [
        "# 使用验证集\n",
        "在上面的操作中，只是试图建立一个合理的训练循环以用于训练数据。 实际上，应该始终具有验证集，以便识别模型是否过拟合。\n",
        "\n",
        "对训练数据进行打乱对于防止批量与过拟合之间的相关性很重要。 **另一方面，无论是否打乱验证集，验证损失都是相同的。 由于打乱需要花费更多时间，因此打乱验证数据没有任何意义。**<br>\n",
        "验证集不需要反向传播，暂用内存少，不需要存储梯度。"
      ],
      "metadata": {
        "id": "3PaBDqtzTcNj"
      }
    },
    {
      "cell_type": "code",
      "source": [
        "train_dl = DataLoader(train_ds, batch_size=bs, shuffle=True)\n",
        "\n",
        "valid_ds = TensorDataset(x_valid, y_valid)\n",
        "valid_dl = DataLoader(valid_ds, batch_size=bs*2, shuffle=False)\n"
      ],
      "metadata": {
        "id": "rCitCgUJUFiJ"
      },
      "execution_count": 10,
      "outputs": []
    },
    {
      "cell_type": "markdown",
      "source": [
        "我们将在每个周期结束时计算并打印验证损失。\n",
        "\n",
        "**（请注意，我们总是在训练之前调用model.train()，并在推理之前调用model.eval()，因为诸如nn.BatchNorm2d和nn.Dropout之类的层会使用它们，以确保这些不同阶段的行为正确。）**"
      ],
      "metadata": {
        "id": "4a3GmGGJUz0q"
      }
    },
    {
      "cell_type": "code",
      "source": [
        "model, opt = get_model()\n",
        "\n",
        "for epoch in range(epochs):\n",
        "  model.train()\n",
        "  for xb, yb in train_dl:\n",
        "    # 梯度归零\n",
        "    opt.zero_grad()\n",
        "\n",
        "    # 前向传播\n",
        "    pred = model(xb)\n",
        "    loss = loss_func(pred, yb)\n",
        "\n",
        "    # 反向传播\n",
        "    loss.backward()\n",
        "\n",
        "    # 参数更新\n",
        "    opt.step()\n",
        "\n",
        "  model.eval()\n",
        "  with torch.no_grad():\n",
        "    valid_loss = sum(loss_func(model(xb), yb) for xb, yb in valid_dl)\n",
        "  \n",
        "  print('{} vaild_loss:{}'.format(epoch, valid_loss / len(valid_dl)))\n"
      ],
      "metadata": {
        "colab": {
          "base_uri": "https://localhost:8080/"
        },
        "id": "_ThcMV8hUxTD",
        "outputId": "509e1e0d-d0ac-4aad-c873-f5bf0739a418"
      },
      "execution_count": 11,
      "outputs": [
        {
          "output_type": "stream",
          "name": "stdout",
          "text": [
            "0 vaild_loss:0.29449668526649475\n",
            "1 vaild_loss:0.3054908215999603\n"
          ]
        }
      ]
    },
    {
      "cell_type": "markdown",
      "source": [
        "# CNN\n",
        "------\n",
        "我们将使用 Pytorch 的预定义Conv2d类作为我们的卷积层。 我们定义了具有 3 个卷积层的 CNN。 每个卷积后跟一个 ReLU。 最后，我们执行平均池化。 **（请注意，view是 numpy 的reshape的 PyTorch 版本）**"
      ],
      "metadata": {
        "id": "TET6Y_GHXhjM"
      }
    },
    {
      "cell_type": "code",
      "source": [
        "class Mnist_CNN(nn.Module):\n",
        "  def __init__(self):\n",
        "    super().__init__()\n",
        "    self.conv1 = nn.Conv2d(1, 16, kernel_size=3, stride=2, padding=1)\n",
        "    self.conv2 = nn.Conv2d(16, 16, kernel_size=3, stride=2, padding=1)\n",
        "    self.conv3 = nn.Conv2d(16, 10, kernel_size=3, stride=2, padding=1)\n",
        "\n",
        "  def forward(self, xb):\n",
        "    xb = xb.veiw(-1, 1, 28, 28)\n",
        "    xb = F.relu(self.conv1(xb))\n",
        "    xb = F.relu(self.conv2(xb))\n",
        "    xb = F.relu(self.conv3(xb))\n",
        "    xb = F.avg_pool2d(xb, 4)\n",
        "    return xb.view(-1, xb.size(1))\n",
        "\n",
        "# 学习率\n",
        "lr = 0.1\n",
        "model = Mnist_CNN()"
      ],
      "metadata": {
        "id": "RCRWz66aXstt"
      },
      "execution_count": 14,
      "outputs": []
    },
    {
      "cell_type": "markdown",
      "source": [
        "# momentum 动量\n",
        "------\n",
        "动量是随机梯度下降的一种变体，它也考虑了以前的更新，通常可以加快训练速度。"
      ],
      "metadata": {
        "id": "Pn805HRZZ1sd"
      }
    },
    {
      "cell_type": "code",
      "source": [
        "opt = optim.SGD(model.parameters(), lr=lr, momentum=0.9)"
      ],
      "metadata": {
        "id": "HkhKA8j5Z8id"
      },
      "execution_count": 15,
      "outputs": []
    },
    {
      "cell_type": "markdown",
      "source": [
        "# nn.Sequential\n",
        "-----\n",
        "Sequential对象以顺序方式运行其中包含的每个模块。 这是编写神经网络的一种简单方法。"
      ],
      "metadata": {
        "id": "CB6N7wgUaKyi"
      }
    },
    {
      "cell_type": "code",
      "source": [
        "from torch.nn.modules.pooling import AvgPool2d\n",
        "from torch.nn.modules.activation import ReLU\n",
        "model = nn.Sequential(\n",
        "    nn.Conv2d(1, 16, kernel_size=3, stride=2, padding=1),\n",
        "    nn.ReLU(),\n",
        "    nn.Conv2d(16, 16, kernel_size=3, stride=2, padding=1),\n",
        "    nn.ReLU(),\n",
        "    nn.Conv2d(16, 10, kernel_size=3, stride=2, padding=1),\n",
        "    nn.ReLU(),\n",
        "    nn.AvgPool2d(4)\n",
        ")"
      ],
      "metadata": {
        "id": "moJKly7iasOu"
      },
      "execution_count": 17,
      "outputs": []
    },
    {
      "cell_type": "markdown",
      "source": [
        "# 使用GPU训练\n",
        "-----\n",
        "如果您足够幸运地能够使用具有 CUDA 功能的 GPU，则可以使用它来加速代码。"
      ],
      "metadata": {
        "id": "79DE_GaPgfXC"
      }
    },
    {
      "cell_type": "code",
      "source": [
        "# 检查gpu是否可用\n",
        "print(torch.cuda.is_available())\n",
        "# 创建一个设备对象\n",
        "device = torch.device('cuda:0' if torch.cuda.is_available() else 'cpu')\n",
        "print(device)\n",
        "# 训练前将数据和模型转移至gpu\n",
        "def preprocess(x, y):\n",
        "    return x.view(-1, 1, 28, 28).to(dev), y.to(dev)\n",
        "\n",
        "model.to(device)"
      ],
      "metadata": {
        "colab": {
          "base_uri": "https://localhost:8080/"
        },
        "id": "o-xQoJTZgrHY",
        "outputId": "24a3a541-2b1c-492f-959b-04176b65f8d3"
      },
      "execution_count": 19,
      "outputs": [
        {
          "output_type": "stream",
          "name": "stdout",
          "text": [
            "True\n",
            "cuda:0\n"
          ]
        },
        {
          "output_type": "execute_result",
          "data": {
            "text/plain": [
              "Sequential(\n",
              "  (0): Conv2d(1, 16, kernel_size=(3, 3), stride=(2, 2), padding=(1, 1))\n",
              "  (1): ReLU()\n",
              "  (2): Conv2d(16, 16, kernel_size=(3, 3), stride=(2, 2), padding=(1, 1))\n",
              "  (3): ReLU()\n",
              "  (4): Conv2d(16, 10, kernel_size=(3, 3), stride=(2, 2), padding=(1, 1))\n",
              "  (5): ReLU()\n",
              "  (6): AvgPool2d(kernel_size=4, stride=4, padding=0)\n",
              ")"
            ]
          },
          "metadata": {},
          "execution_count": 19
        }
      ]
    },
    {
      "cell_type": "markdown",
      "source": [
        "# 总结\n",
        "--------\n",
        "现在，我们有了一个通用的数据管道和训练循环，您可以将其用于使用 Pytorch 训练许多类型的模型。 要了解现在可以轻松进行模型训练，请查看`mnist_sample`示例笔记本。\n",
        "\n",
        "当然，您需要添加很多内容，例如数据扩充，超参数调整，监控训练，迁移学习等。 这些功能可在 fastai 库中使用，该库是使用本教程中所示的相同设计方法开发的，为希望进一步推广其模型的从业人员提供了自然的下一步。\n",
        "\n",
        "我们承诺在本教程开始时将通过示例分别说明`torch.nn`，`torch.optim`，`Dataset`和`DataLoader`。 因此，让我们总结一下我们所看到的：\n",
        "\n",
        " - `torch.nn`\n",
        "   + `Module`: 创建一个行为类似于函数的可调用对象，但也可以包含状态（例如神经网络层权重）。 它知道其中包含的 `Parameter` ，并且可以将其所有坡度归零，遍历它们以进行权重更新等。\n",
        "   + `Parameter`: 张量的包装器，用于告知 Module 具有在反向传播期间需要更新的权重。 仅更新具有`require_grad`属性集的张量\n",
        "   + `functional`: 一个模块（通常按照惯例导入到 F 名称空间中），其中包含激活函数，损失函数等。 以及卷积和线性层等层的无状态版本。\n",
        " - `torch.optim`: 包含诸如 SGD 的优化程序，这些优化程序在后退步骤\n",
        " - `Dataset`中更新 `Parameter` 的权重。 具有 `__len__` 和 `__getitem__` 的对象，包括 Pytorch 提供的类，例如 `TensorDataset`\n",
        " - ``DataLoader``: 获取任何 Dataset 并创建一个迭代器，该迭代器返回批量数据。"
      ],
      "metadata": {
        "id": "LE77DV4jh_1O"
      }
    }
  ]
}